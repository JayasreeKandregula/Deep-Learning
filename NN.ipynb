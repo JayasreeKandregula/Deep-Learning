{
 "cells": [
  {
   "cell_type": "markdown",
   "id": "5e8cb3c3",
   "metadata": {
    "colab_type": "text",
    "id": "view-in-github"
   },
   "source": [
    "<a href=\"https://colab.research.google.com/github/JayasreeKandregula/Deep-Learning/blob/feature1/NN.ipynb\" target=\"_parent\"><img src=\"https://colab.research.google.com/assets/colab-badge.svg\" alt=\"Open In Colab\"/></a>"
   ]
  },
  {
   "cell_type": "code",
   "execution_count": 1,
   "id": "d5d9dada",
   "metadata": {
    "colab": {
     "base_uri": "https://localhost:8080/"
    },
    "id": "d5d9dada",
    "outputId": "5f64640b-f201-4531-98ea-7672e388d97c"
   },
   "outputs": [
    {
     "name": "stdout",
     "output_type": "stream",
     "text": [
      "Collecting nnfs\n",
      "  Downloading nnfs-0.5.1-py3-none-any.whl (9.1 kB)\n",
      "Requirement already satisfied: numpy in c:\\users\\kandr\\anaconda3\\lib\\site-packages (from nnfs) (1.24.1)\n",
      "Installing collected packages: nnfs\n",
      "Successfully installed nnfs-0.5.1\n"
     ]
    }
   ],
   "source": [
    "import pandas as pd\n",
    "import numpy as np\n",
    "!pip install nnfs\n",
    "from nnfs.datasets import spiral_data"
   ]
  },
  {
   "cell_type": "markdown",
   "id": "9807916d",
   "metadata": {
    "id": "9807916d"
   },
   "source": [
    "1. An inputs neurons sending info to one nueron of another layer.\n",
    "2. A single nueron contains Weights of array of length of input.\n",
    "3. A neuron also contain its own bias."
   ]
  },
  {
   "cell_type": "code",
   "execution_count": 2,
   "id": "04364037",
   "metadata": {
    "id": "04364037"
   },
   "outputs": [],
   "source": [
    "inputs = [1,2,3]\n",
    "weights = [0.2, 0.8, 0.5] \n",
    "bias =2"
   ]
  },
  {
   "cell_type": "code",
   "execution_count": 3,
   "id": "75767fb8",
   "metadata": {
    "id": "75767fb8"
   },
   "outputs": [],
   "source": [
    "output = inputs[0]*weights[0] + inputs[1]*weights[1] +inputs[2]*weights[2] +bias"
   ]
  },
  {
   "cell_type": "code",
   "execution_count": 4,
   "id": "def410bc",
   "metadata": {
    "colab": {
     "base_uri": "https://localhost:8080/"
    },
    "id": "def410bc",
    "outputId": "aaed2560-21e8-4067-93a9-797cf05bbe41"
   },
   "outputs": [
    {
     "data": {
      "text/plain": [
       "5.3"
      ]
     },
     "execution_count": 4,
     "metadata": {},
     "output_type": "execute_result"
    }
   ],
   "source": [
    "output"
   ]
  },
  {
   "cell_type": "markdown",
   "id": "d3153b1d",
   "metadata": {
    "id": "d3153b1d"
   },
   "source": [
    "1. Consider 4 neurons sending input to 3 neurons of another layer.\n",
    "2. Inputs contains 4 input values.\n",
    "3. Weights contains 3 sets of arrays of weights associated to 3 neurons of length 4 \n",
    "4. 3 neurons contains 3 unique biases."
   ]
  },
  {
   "cell_type": "code",
   "execution_count": 5,
   "id": "bf2467a8",
   "metadata": {
    "id": "bf2467a8"
   },
   "outputs": [],
   "source": [
    "inputs = [1,2,3, 2.5]\n",
    "weights1 = [0.2, 0.8, -0.5, 1.0] \n",
    "weights2 = [0.5, -0.91, 0.26, -0.5] \n",
    "weights3 = [-0.26, -0.27, 0.17, 0.87] \n",
    "bias1 = 2\n",
    "bias2 = 3\n",
    "bias3 = 0.5"
   ]
  },
  {
   "cell_type": "code",
   "execution_count": 6,
   "id": "a0267e55",
   "metadata": {
    "id": "a0267e55"
   },
   "outputs": [],
   "source": [
    "output = [(inputs[0]*weights1[0] + inputs[1]*weights1[1] +inputs[2]*weights1[2] + inputs[3]*weights1[3])+bias1,\n",
    "         inputs[0]*weights2[0] + inputs[1]*weights2[1] +inputs[2]*weights2[2] +inputs[3]*weights2[3]+bias2,\n",
    "         inputs[0]*weights3[0] + inputs[1]*weights3[1] +inputs[2]*weights3[2] +inputs[3]*weights3[3]+bias3]"
   ]
  },
  {
   "cell_type": "code",
   "execution_count": 7,
   "id": "4e9181dd",
   "metadata": {
    "colab": {
     "base_uri": "https://localhost:8080/"
    },
    "id": "4e9181dd",
    "outputId": "5d513086-09ae-40dc-8ea1-123d0007701f"
   },
   "outputs": [
    {
     "data": {
      "text/plain": [
       "[4.8, 1.21, 2.385]"
      ]
     },
     "execution_count": 7,
     "metadata": {},
     "output_type": "execute_result"
    }
   ],
   "source": [
    "output"
   ]
  },
  {
   "cell_type": "markdown",
   "id": "a4020b14",
   "metadata": {
    "id": "a4020b14"
   },
   "source": [
    "The same code in for loops."
   ]
  },
  {
   "cell_type": "code",
   "execution_count": 8,
   "id": "6ffc202c",
   "metadata": {
    "id": "6ffc202c"
   },
   "outputs": [],
   "source": [
    "inputs = [1,2,3, 2.5]\n",
    "weights = [[0.2, 0.8, -0.5, 1.0] ,[0.5, -0.91, 0.26, -0.5],[-0.26, -0.27, 0.17, 0.87]]\n",
    "biases = [2,3,0.5]"
   ]
  },
  {
   "cell_type": "code",
   "execution_count": 9,
   "id": "2b9dfd13",
   "metadata": {
    "colab": {
     "base_uri": "https://localhost:8080/"
    },
    "id": "2b9dfd13",
    "outputId": "40e20f6f-2d86-4ffc-b7af-253952ce4ed5"
   },
   "outputs": [
    {
     "name": "stdout",
     "output_type": "stream",
     "text": [
      "[4.8, 1.21, 2.385]\n"
     ]
    }
   ],
   "source": [
    "layer_outputs = []\n",
    "for neuron_bias, neuron_weights in zip(biases, weights):\n",
    "    output=0\n",
    "    for neuron_weight, neuron_input in zip(neuron_weights, inputs):\n",
    "        output += neuron_weight*neuron_input\n",
    "    output+=neuron_bias\n",
    "    layer_outputs.append(output)\n",
    "print(layer_outputs)"
   ]
  },
  {
   "cell_type": "markdown",
   "id": "a466375f",
   "metadata": {
    "id": "a466375f"
   },
   "source": [
    "Code in dot product"
   ]
  },
  {
   "cell_type": "code",
   "execution_count": 10,
   "id": "4da887ab",
   "metadata": {
    "colab": {
     "base_uri": "https://localhost:8080/"
    },
    "id": "4da887ab",
    "outputId": "360888e5-306d-4a35-b1bb-80dbff9bc7fe"
   },
   "outputs": [
    {
     "data": {
      "text/plain": [
       "array([4.8  , 1.21 , 2.385])"
      ]
     },
     "execution_count": 10,
     "metadata": {},
     "output_type": "execute_result"
    }
   ],
   "source": [
    "#weights 3*4 inputs 4*1 output 3*1\n",
    "np.dot(weights,inputs) + biases\n",
    "# If weights and inputs are interchanges, you get an error that order is not same\n",
    "#   weights have m*n inputs have n*y result output is m*y"
   ]
  },
  {
   "cell_type": "markdown",
   "id": "634dfe12",
   "metadata": {
    "id": "634dfe12"
   },
   "source": [
    "Batch Size: Instead of sending one neuron at a time, we send inputs of particular size, which is batch size"
   ]
  },
  {
   "cell_type": "code",
   "execution_count": 11,
   "id": "2b86e16c",
   "metadata": {
    "id": "2b86e16c"
   },
   "outputs": [],
   "source": [
    "#considering batch size of 3 inputs and pass it to 3 neurons which results in giving \n",
    "# 3 outputs.\n",
    "inputs = [[1,2,3, 2.5], [2.0,5.0,-1.0,2.0], [-1.5,2.7,3.3,-0.8]]"
   ]
  },
  {
   "cell_type": "code",
   "execution_count": 12,
   "id": "9b5bfbdf",
   "metadata": {
    "colab": {
     "base_uri": "https://localhost:8080/"
    },
    "id": "9b5bfbdf",
    "outputId": "2343a76a-f95b-446a-9e2f-7e943e5c0053"
   },
   "outputs": [
    {
     "data": {
      "text/plain": [
       "array([[ 4.8  ,  1.21 ,  2.385],\n",
       "       [ 8.9  , -1.81 ,  0.2  ],\n",
       "       [ 1.41 ,  1.051,  0.026]])"
      ]
     },
     "execution_count": 12,
     "metadata": {},
     "output_type": "execute_result"
    }
   ],
   "source": [
    "#inputs 3*4 weights 3*4 \n",
    "np.dot(np.array(inputs).T, weights)\n",
    "#this is wrong way since we have input 3 inputs and output needed is 3 rows(3 neurons) but got 4 rows\n",
    "layer1=np.dot(inputs, np.array(weights).T)+biases\n",
    "layer1"
   ]
  },
  {
   "cell_type": "markdown",
   "id": "7c241af6",
   "metadata": {
    "id": "7c241af6"
   },
   "source": [
    "Add another layer with new weights and biases for neurons.\n",
    "So layer 1 ouputs will be inputs for layer 2. \n",
    "weights associated with neurons should be size = length of inputs which is 3"
   ]
  },
  {
   "cell_type": "code",
   "execution_count": 13,
   "id": "30b575d7",
   "metadata": {
    "id": "30b575d7"
   },
   "outputs": [],
   "source": [
    "weights2 = [[0.1, -0.14, 0.5],\n",
    "           [-0.5, 0.12, -0.33],\n",
    "           [-0.44, 0.73, -0.13],\n",
    "           [0,0,0]]\n",
    "biases2 = [-1,2,-0.5,0]"
   ]
  },
  {
   "cell_type": "code",
   "execution_count": 14,
   "id": "deb25a3f",
   "metadata": {
    "id": "deb25a3f"
   },
   "outputs": [],
   "source": [
    "layer2 = np.dot(layer1, np.array(weights2).T)+biases2"
   ]
  },
  {
   "cell_type": "code",
   "execution_count": 15,
   "id": "cc5e93d4",
   "metadata": {
    "colab": {
     "base_uri": "https://localhost:8080/"
    },
    "id": "cc5e93d4",
    "outputId": "64c0098e-0a9d-45fe-be3a-273d9386d373"
   },
   "outputs": [
    {
     "data": {
      "text/plain": [
       "array([[ 0.5031 , -1.04185, -2.03875,  0.     ],\n",
       "       [ 0.2434 , -2.7332 , -5.7633 ,  0.     ],\n",
       "       [-0.99314,  1.41254, -0.35655,  0.     ]])"
      ]
     },
     "execution_count": 15,
     "metadata": {},
     "output_type": "execute_result"
    }
   ],
   "source": [
    "layer2\n",
    "# The 4th neuron for 1st input gives 0 similarly for all inputs gives 0"
   ]
  },
  {
   "cell_type": "code",
   "execution_count": 16,
   "id": "e5ca9a47",
   "metadata": {
    "id": "e5ca9a47"
   },
   "outputs": [],
   "source": [
    "np.random.seed(0)\n",
    "class Layer_Dense:\n",
    "    def __init__(self, n_inputs, n_neurons):\n",
    "        self.weights = np.random.randn(n_inputs,n_neurons) # inorder to skip transpose\n",
    "        self.biases = np.zeros((1,n_neurons))\n",
    "    def forward_pass(self, inputs):\n",
    "        self.output = np.dot(inputs, self.weights) + self.biases"
   ]
  },
  {
   "cell_type": "code",
   "execution_count": 17,
   "id": "f7f8823e",
   "metadata": {
    "colab": {
     "base_uri": "https://localhost:8080/"
    },
    "id": "f7f8823e",
    "outputId": "4286dbab-fd83-4d76-cdb3-093933976a65"
   },
   "outputs": [
    {
     "data": {
      "text/plain": [
       "array([[  8.90617854,   0.75262811,   6.37578273, -10.35783663,\n",
       "         17.87298299],\n",
       "       [  9.01549997,   5.0269016 ,  -2.3641483 , -22.25199903,\n",
       "         28.73652534],\n",
       "       [ -0.90849509,   6.11813272, -13.24725074,   0.46119336,\n",
       "         11.52489874]])"
      ]
     },
     "execution_count": 17,
     "metadata": {},
     "output_type": "execute_result"
    }
   ],
   "source": [
    "layer1  = Layer_Dense(4,3) # 4 inputs 3 neurons\n",
    "layer2  = Layer_Dense(3,5) # 3 inputs 5 neurons\n",
    "layer1.forward_pass(inputs)\n",
    "first_layer_output=layer1.output # gives 3/3 matrix for every input 3 neurons o/ps\n",
    "layer2.forward_pass(first_layer_output)\n",
    "layer2.output\n",
    "# in second layer, first layer 3 neurons will be input,\n",
    "# for 3 inputs, 5 neurons o/ps are printed."
   ]
  },
  {
   "cell_type": "code",
   "execution_count": 18,
   "id": "dee25dd9",
   "metadata": {
    "colab": {
     "base_uri": "https://localhost:8080/"
    },
    "id": "dee25dd9",
    "outputId": "5d2f16b4-b60f-4d93-beb6-8a8b94b859f2"
   },
   "outputs": [
    {
     "data": {
      "text/plain": [
       "[[1, 2, 3, 2.5], [2.0, 5.0, -1.0, 2.0], [-1.5, 2.7, 3.3, -0.8]]"
      ]
     },
     "execution_count": 18,
     "metadata": {},
     "output_type": "execute_result"
    }
   ],
   "source": [
    "inputs"
   ]
  },
  {
   "cell_type": "code",
   "execution_count": 19,
   "id": "ccdaae63",
   "metadata": {
    "colab": {
     "base_uri": "https://localhost:8080/"
    },
    "id": "ccdaae63",
    "outputId": "cfa2908b-f47d-4b99-a331-71d0f02a23e5"
   },
   "outputs": [
    {
     "data": {
      "text/plain": [
       "array([[10.12260025,  4.04131049,  2.35020944],\n",
       "       [14.60367927, 10.57754872,  0.08285243],\n",
       "       [ 6.2111461 ,  3.82745712, -5.61079827]])"
      ]
     },
     "execution_count": 19,
     "metadata": {},
     "output_type": "execute_result"
    }
   ],
   "source": [
    "first_layer_output"
   ]
  },
  {
   "cell_type": "code",
   "execution_count": null,
   "id": "4bbe5ef4",
   "metadata": {
    "id": "4bbe5ef4"
   },
   "outputs": [],
   "source": []
  },
  {
   "cell_type": "markdown",
   "id": "wrHt6toZEuXc",
   "metadata": {
    "id": "wrHt6toZEuXc"
   },
   "source": [
    "**Activation function:**\n",
    "Multiplying with weights and adding bias just gives a linear equation.\n",
    "To solve the non-linear models after the forward pass, every neuron must be passed to activation function.\n",
    "We can have sigmoid function--\n",
    "\n",
    "**Rectified linear Function:** \n",
    "y=x if x>0, else 0.\n",
    "ReLU activations fits for non-linear models as well.\n",
    "The more number of neurons in hidden layers the best fit the line may be.\n",
    "\n",
    "\n"
   ]
  },
  {
   "cell_type": "code",
   "execution_count": 20,
   "id": "-F3lsWOVGs1_",
   "metadata": {
    "id": "-F3lsWOVGs1_"
   },
   "outputs": [],
   "source": [
    "class ReLUActivation:\n",
    "  def forward(self, inputs):\n",
    "    self.output = np.maximum(0,inputs)"
   ]
  },
  {
   "cell_type": "code",
   "execution_count": 21,
   "id": "OJ4Di1WRHYAT",
   "metadata": {
    "id": "OJ4Di1WRHYAT"
   },
   "outputs": [],
   "source": [
    "X,y = spiral_data(100,3) #100 inputs 3 class labels"
   ]
  },
  {
   "cell_type": "code",
   "execution_count": 22,
   "id": "fFbapXHgHEom",
   "metadata": {
    "id": "fFbapXHgHEom"
   },
   "outputs": [],
   "source": [
    "hidden_layer1 = Layer_Dense(2,3) # Each input has 2 features. and 3 neurons.\n",
    "hidden_layer2 = Layer_Dense(3,3) # Each input has 2 features. and 3 neurons.\n",
    "hidden_layer1.forward_pass(X) #this output given to activation function.\n",
    "activation1 = ReLUActivation()\n",
    "activation1.forward(hidden_layer1.output)\n",
    "hidden_layer2.forward_pass(activation1.output)"
   ]
  },
  {
   "cell_type": "markdown",
   "id": "ctoUQFxVLvCM",
   "metadata": {
    "id": "ctoUQFxVLvCM"
   },
   "source": [
    "Softmax Function:\n",
    "It is a normalized exponential function.\n",
    "\n",
    "It is the activation function that is applied to output layer to determine the probabilities of neurons and say which neuron performed the best.\n",
    "\n",
    "![image.png](data:image/png;base64,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)\n",
    "\n",
    "Formula: Exponentiation is used for removing the negative numbers from the layer outputs.\n",
    "The exponentiated number is divided with sum of all exponentiated values of neurons.This results in probability distribution of output neurons. \n",
    "Prior to exponentiation, the output values before giving to activation function, we subtract every output values with the max value. This is to prevent overflow of exponent values. \n",
    "Eg: exp(1000) gives us overflow error.\n",
    "By subtracting with highest value, the highest output value will be 0 and remaining outputs < 0."
   ]
  },
  {
   "cell_type": "code",
   "execution_count": 23,
   "id": "HiyvUZG9IXlb",
   "metadata": {
    "id": "HiyvUZG9IXlb"
   },
   "outputs": [],
   "source": [
    "class SoftmaxActivation:\n",
    "  def forward_pass(self, inputs):\n",
    "    exp_values = np.exp(inputs - np.max(inputs, axis=1,keepdims=True))\n",
    "    self.output = exp_values / np.sum(exp_values, axis=1, keepdims=True)"
   ]
  },
  {
   "cell_type": "code",
   "execution_count": 26,
   "id": "422lbjcSJxGc",
   "metadata": {
    "id": "422lbjcSJxGc"
   },
   "outputs": [
    {
     "name": "stdout",
     "output_type": "stream",
     "text": [
      "[[0.33333333 0.33333333 0.33333333]\n",
      " [0.33618036 0.32295648 0.34086316]\n",
      " [0.33880383 0.3121551  0.34904107]\n",
      " [0.34118943 0.31256781 0.34624277]\n",
      " [0.34407901 0.29912113 0.35679986]]\n"
     ]
    }
   ],
   "source": [
    "activation2 = SoftmaxActivation()\n",
    "activation2.forward_pass(hidden_layer2.output)\n",
    "print(activation2.output[:5]) # sum of probabilities will be 1."
   ]
  },
  {
   "cell_type": "markdown",
   "id": "7ef3be9b",
   "metadata": {
    "id": "PaIQ3O38Ll4U"
   },
   "source": [
    "## Loss Function:\n",
    "It is referred to as cost function, which quantifies how wrong the model is?\n",
    "The lower the loss, higher the model performance.\n",
    "1. We donot calculate the error based on the model accuracy.\n",
    "\n",
    "Consider an  example of output of softmax function- [0.22, 0.6, 0.18] vs [0.32, 0.36, 0.32]. The accuracy of both outputs are same but confidence of 1st output is 0.6 and confidence of 2nd output is 0.36 which is less than 1st output. The loss function captures the confidence of the output."
   ]
  },
  {
   "cell_type": "markdown",
   "id": "dd19943c",
   "metadata": {},
   "source": [
    "## Categorical Cross-Entropy Loss:\n",
    "Cross entropy is generally used for categorical models. The most common practice is to use the cross entropy losss function after the softmax activation function on output layer. The softmax function converts the logits to probabilities.\n",
    "\n",
    "y=target values y-hat= predicted values.\n",
    "\n",
    "The simplified loss function L = -log(correct_class_prediction)"
   ]
  },
  {
   "cell_type": "code",
   "execution_count": 30,
   "id": "acb63321",
   "metadata": {},
   "outputs": [],
   "source": [
    "#consider softmax activation function produces the below output\n",
    "softmax_outputs = np.array([[0.7,0.1,0.2],\n",
    "                           [0.1,0.5,0.4],\n",
    "                           [0.02,0.9,0.08]])\n",
    "#class targets\n",
    "class_targets = [0,1,1] # Consider 3 labels Dog-0, Cat-1, human-1\n",
    "#class_targets in One-hot-encoding\n",
    "class_targets_ohe = np.array([[1,0,0],\n",
    "                             [0,1,0],\n",
    "                             [0,1,0]])"
   ]
  },
  {
   "cell_type": "markdown",
   "id": "a72ae100",
   "metadata": {},
   "source": [
    "### Calculation of cross-entropy\n",
    " L = mean [-(log(0.7)*1+ log(0.1)*0+log(0.2)*0), -(log(0.1)*0+ log(0.5)*1+log(0.4)*0), -(log(0.02)*0+ log(0.9)*1+log(0.08)*0)]\n",
    " \n",
    " The above formula breaksdown to :\n",
    " L = mean(-log(0.7), -log(0.5), -log(0.9))\n",
    "  \n",
    " The first input target = 0, so log(0.7) is calculated, The second input target = 1, so log(0.5) is calculated, The third input target = 1, so log(0.9) is calculated. The average of above three inputs is the loss value."
   ]
  },
  {
   "cell_type": "code",
   "execution_count": 28,
   "id": "0f3f2ca4",
   "metadata": {},
   "outputs": [],
   "source": [
    "class Loss:\n",
    "    def calculate(self, output, y):\n",
    "        samples_loss = self.forward(output, y)\n",
    "        avg_loss = np.mean(samples_loss)\n",
    "        return avg_loss\n",
    "    "
   ]
  },
  {
   "cell_type": "code",
   "execution_count": 71,
   "id": "87d95ac6",
   "metadata": {},
   "outputs": [],
   "source": [
    "class CategoricalCrossEntropy(Loss):\n",
    "    def forward(self, output, y):\n",
    "        #np.clip() sets a range min value=1e-7 and max-value =1-1e-7 for output\n",
    "        y_pred_clipped = np.clip(output, 1e-7, 1-1e-7) \n",
    "        if(len(y.shape)==1):\n",
    "            confidence = -np.log(y_pred_clipped[range(len(y_pred_clipped)), y])\n",
    "        elif(len(y.shape)==2):\n",
    "            confidence = -np.log(np.sum(y_pred_clipped*y, axis=1))\n",
    "        return confidence"
   ]
  },
  {
   "cell_type": "code",
   "execution_count": 72,
   "id": "e4a2e033",
   "metadata": {},
   "outputs": [
    {
     "data": {
      "text/plain": [
       "0.38506088005216804"
      ]
     },
     "execution_count": 72,
     "metadata": {},
     "output_type": "execute_result"
    }
   ],
   "source": [
    "loss = CategoricalCrossEntropy()\n",
    "#loss.calculate(softmax_outputs, class_targets)\n",
    "loss.calculate(softmax_outputs, class_targets_ohe)"
   ]
  },
  {
   "cell_type": "code",
   "execution_count": 73,
   "id": "74bba827",
   "metadata": {},
   "outputs": [
    {
     "name": "stdout",
     "output_type": "stream",
     "text": [
      "1.4109906991979755\n"
     ]
    }
   ],
   "source": [
    "loss = loss.calculate(activation2.output, y)\n",
    "print(loss)"
   ]
  },
  {
   "cell_type": "code",
   "execution_count": null,
   "id": "7ba3c3f4",
   "metadata": {},
   "outputs": [],
   "source": []
  },
  {
   "cell_type": "code",
   "execution_count": null,
   "id": "dcb3a6e2",
   "metadata": {},
   "outputs": [],
   "source": []
  },
  {
   "cell_type": "code",
   "execution_count": null,
   "id": "7bc64b62",
   "metadata": {},
   "outputs": [],
   "source": []
  }
 ],
 "metadata": {
  "colab": {
   "include_colab_link": true,
   "provenance": []
  },
  "gpuClass": "standard",
  "kernelspec": {
   "display_name": "Python 3",
   "language": "python",
   "name": "python3"
  },
  "language_info": {
   "codemirror_mode": {
    "name": "ipython",
    "version": 3
   },
   "file_extension": ".py",
   "mimetype": "text/x-python",
   "name": "python",
   "nbconvert_exporter": "python",
   "pygments_lexer": "ipython3",
   "version": "3.8.8"
  }
 },
 "nbformat": 4,
 "nbformat_minor": 5
}
